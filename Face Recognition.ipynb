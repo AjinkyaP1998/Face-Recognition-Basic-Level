{
 "cells": [
  {
   "cell_type": "code",
   "execution_count": 67,
   "metadata": {},
   "outputs": [],
   "source": [
    "#Importing required libraries\n",
    "import face_recognition\n",
    "import cv2"
   ]
  },
  {
   "cell_type": "code",
   "execution_count": 68,
   "metadata": {},
   "outputs": [],
   "source": [
    "#Reading images that need to be detected\n",
    "image_aamir = cv2.imread(\"Aamir.jpg\")\n",
    "image_ranveer = cv2.imread(\"Ranveer.jpg\")\n",
    "\n",
    "#Storing encodings of images that need to be detected\n",
    "image_aamir_encodings = face_recognition.face_encodings(image_aamir)\n",
    "image_ranveer_encodings = face_recognition.face_encodings(image_ranveer)\n",
    "\n",
    "Known_encodings = [image_aamir_encodings,\n",
    "image_ranveer_encodings ]\n",
    "\n",
    "Known_encodings_names = [\"Aamir\",\n",
    "\"Ranveer\"]"
   ]
  },
  {
   "cell_type": "code",
   "execution_count": 69,
   "metadata": {},
   "outputs": [],
   "source": [
    "#Reading testing images\n",
    "test_image1 = cv2.imread(\"Ranveer1.jfif\")\n",
    "test_image2 = cv2.imread(\"Aamir1.jfif\")\n",
    "test_image3 = cv2.imread(\"Shahid.jpg\")\n",
    "\n",
    "test_image1_encodings = face_recognition.face_encodings(test_image1)\n",
    "test_image2_encodings = face_recognition.face_encodings(test_image2)\n",
    "test_image3_encodings = face_recognition.face_encodings(test_image3)\n",
    "\n",
    "list_to_check = [test_image1_encodings,test_image2_encodings,test_image3_encodings]"
   ]
  },
  {
   "cell_type": "code",
   "execution_count": 70,
   "metadata": {},
   "outputs": [
    {
     "name": "stdout",
     "output_type": "stream",
     "text": [
      "The model detects the face of actor Ranveer in image 1\n",
      "The model detects the face of actor Aamir in image 2\n",
      "Match not found for image 3\n"
     ]
    }
   ],
   "source": [
    "#Finding encoding match and printing the matched output\n",
    "from scipy.spatial import distance\n",
    "\n",
    "p = 1\n",
    "for k in list_to_check:\n",
    "    for i in range(0,len(Known_encodings)):\n",
    "        d = distance.euclidean(Known_encodings[i],k)\n",
    "        \n",
    "        if d <= 0.6:\n",
    "            print(\"The model detects the face of actor \" + Known_encodings_names[i] + \" in image \" + str(p))\n",
    "            break\n",
    "            \n",
    "    \n",
    "    if d > 0.6:\n",
    "        print(\"Match not found\"+ \" for image \" + str(p))\n",
    "    \n",
    "    p = p+1 "
   ]
  },
  {
   "cell_type": "code",
   "execution_count": null,
   "metadata": {},
   "outputs": [],
   "source": []
  },
  {
   "cell_type": "code",
   "execution_count": null,
   "metadata": {},
   "outputs": [],
   "source": []
  }
 ],
 "metadata": {
  "kernelspec": {
   "display_name": "Python 3",
   "language": "python",
   "name": "python3"
  },
  "language_info": {
   "codemirror_mode": {
    "name": "ipython",
    "version": 3
   },
   "file_extension": ".py",
   "mimetype": "text/x-python",
   "name": "python",
   "nbconvert_exporter": "python",
   "pygments_lexer": "ipython3",
   "version": "3.6.8"
  }
 },
 "nbformat": 4,
 "nbformat_minor": 4
}
