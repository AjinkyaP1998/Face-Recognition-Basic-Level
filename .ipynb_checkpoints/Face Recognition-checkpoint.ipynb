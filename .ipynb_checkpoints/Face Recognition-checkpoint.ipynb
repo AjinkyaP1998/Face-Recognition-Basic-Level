{
 "cells": [
  {
   "cell_type": "code",
   "execution_count": 1,
   "metadata": {},
   "outputs": [],
   "source": [
    "import face_recognition\n",
    "import cv2\n"
   ]
  },
  {
   "cell_type": "code",
   "execution_count": 2,
   "metadata": {},
   "outputs": [],
   "source": [
    "image_aamir = cv2.imread(\"Aamir.jpg\")\n",
    "image_ranveer = cv2.imread(\"Ranveer.jpg\")\n",
    "\n",
    "image_aamir_encodings = face_recognition.face_encodings(image_aamir)\n",
    "image_ranveer_encodings = face_recognition.face_encodings(image_ranveer)"
   ]
  },
  {
   "cell_type": "code",
   "execution_count": 3,
   "metadata": {},
   "outputs": [],
   "source": [
    "Known_encodings = [image_aamir_encodings,\n",
    "image_ranveer_encodings, ]\n",
    "\n",
    "Known_encodings_names = [\"Aamir\",\n",
    "\"Ranveer\"]"
   ]
  },
  {
   "cell_type": "code",
   "execution_count": 4,
   "metadata": {},
   "outputs": [],
   "source": [
    "test_image1 = cv2.imread(\"Ranveer1.jfif\")\n",
    "test_image2 = cv2.imread(\"Aamir1.jfif\")\n",
    "\n",
    "test_image1_encodings = face_recognition.face_encodings(test_image1)\n",
    "test_image2_encodings = face_recognition.face_encodings(test_image2)"
   ]
  },
  {
   "cell_type": "code",
   "execution_count": 5,
   "metadata": {},
   "outputs": [
    {
     "name": "stdout",
     "output_type": "stream",
     "text": [
      "The model detects the face of actorRanveer\n",
      "The model detects the face of actorAamir\n"
     ]
    }
   ],
   "source": [
    "from scipy.spatial import distance\n",
    "\n",
    "for i in range(0,len(Known_encodings)):\n",
    "    d = distance.euclidean(Known_encodings[i],test_image1_encodings)\n",
    "    if d <= 0.6:\n",
    "        print(\"The model detects the face of actor \" + Known_encodings_names[i] + \"in test image1\")\n",
    "        break\n",
    "    if \"Siddharth\" == Known_encodings_names[i]:\n",
    "        print(\"No match found\")\n",
    "\n",
    "for i in range(0,len(Known_encodings)):\n",
    "    d = distance.euclidean(Known_encodings[i],test_image2_encodings)\n",
    "    if d <= 0.6:\n",
    "        print(\"The model detects the face of actor \" + Known_encodings_names[i] + \"in test image1\")\n",
    "        break\n",
    "    if \"Siddharth\" == Known_encodings_names[i]:\n",
    "        print(\"No match found\")\n"
   ]
  },
  {
   "cell_type": "code",
   "execution_count": null,
   "metadata": {},
   "outputs": [],
   "source": []
  },
  {
   "cell_type": "code",
   "execution_count": null,
   "metadata": {},
   "outputs": [],
   "source": []
  }
 ],
 "metadata": {
  "kernelspec": {
   "display_name": "Python 3",
   "language": "python",
   "name": "python3"
  },
  "language_info": {
   "codemirror_mode": {
    "name": "ipython",
    "version": 3
   },
   "file_extension": ".py",
   "mimetype": "text/x-python",
   "name": "python",
   "nbconvert_exporter": "python",
   "pygments_lexer": "ipython3",
   "version": "3.6.8"
  }
 },
 "nbformat": 4,
 "nbformat_minor": 4
}
